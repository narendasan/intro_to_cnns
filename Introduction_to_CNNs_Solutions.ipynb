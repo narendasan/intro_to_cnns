{
  "nbformat": 4,
  "nbformat_minor": 0,
  "metadata": {
    "colab": {
      "name": "Introduction to CNNs Solutions.ipynb",
      "version": "0.3.2",
      "provenance": []
    },
    "kernelspec": {
      "name": "python3",
      "display_name": "Python 3"
    },
    "accelerator": "GPU"
  },
  "cells": [
    {
      "cell_type": "markdown",
      "metadata": {
        "id": "view-in-github",
        "colab_type": "text"
      },
      "source": [
        "[View in Colaboratory](https://colab.research.google.com/github/narendasan/intro_to_cnns/blob/master/Introduction_to_CNNs_Solutions.ipynb)"
      ]
    },
    {
      "metadata": {
        "id": "wYfACiqaj782",
        "colab_type": "text"
      },
      "cell_type": "markdown",
      "source": [
        "# Classifying Handwritting using Convolutional Neural Networks\n",
        "\n",
        "In this example we are going to use PyTorch, a commonly used Deep Learning Framework to classify Handwritten Digits.\n",
        "\n",
        "We are going to motivate the use of CNNs by quickly examining Softmax Regression and Multilayer Perceptrons, then use the LeNet5 Network Architecture, an architecture developed by Yann LeCunn in the 1990s to recognize digits on zipcodes."
      ]
    },
    {
      "metadata": {
        "id": "DF6NyMrekPIQ",
        "colab_type": "text"
      },
      "cell_type": "markdown",
      "source": [
        "## Installing Dependencies\n",
        "PyTorch is a python based framework and does much of the heavy lifting for us when it comes to preprocessing our data and managing the learning process.\n",
        "\n",
        "We are going to start by installing PyTorch, importing the framework package and the other packages we are going to use\n"
      ]
    },
    {
      "metadata": {
        "id": "_8IKYx0bj86k",
        "colab_type": "code",
        "colab": {
          "base_uri": "https://localhost:8080/",
          "height": 330
        },
        "outputId": "2b54740c-ec7b-4821-898b-4c65e09d1846"
      },
      "cell_type": "code",
      "source": [
        "!pip3 install http://download.pytorch.org/whl/cu80/torch-0.3.0.post4-cp36-cp36m-linux_x86_64.whl\n",
        "!pip3 install torchvision\n",
        "!pip3 install numpy\n",
        "!pip3 install matplotlib\n",
        "!pip3 install seaborn"
      ],
      "execution_count": 1,
      "outputs": [
        {
          "output_type": "stream",
          "text": [
            "Requirement already satisfied: torch==0.3.0.post4 from http://download.pytorch.org/whl/cu80/torch-0.3.0.post4-cp36-cp36m-linux_x86_64.whl in /usr/local/lib/python3.6/dist-packages\r\n",
            "Requirement already satisfied: pyyaml in /usr/local/lib/python3.6/dist-packages (from torch==0.3.0.post4)\r\n",
            "Requirement already satisfied: numpy in /usr/local/lib/python3.6/dist-packages (from torch==0.3.0.post4)\n",
            "Requirement already satisfied: torchvision in /usr/local/lib/python3.6/dist-packages\n",
            "Requirement already satisfied: numpy in /usr/local/lib/python3.6/dist-packages (from torchvision)\n",
            "Requirement already satisfied: six in /usr/local/lib/python3.6/dist-packages (from torchvision)\n",
            "Requirement already satisfied: torch in /usr/local/lib/python3.6/dist-packages (from torchvision)\n",
            "Requirement already satisfied: pillow>=4.1.1 in /usr/local/lib/python3.6/dist-packages (from torchvision)\n",
            "Requirement already satisfied: pyyaml in /usr/local/lib/python3.6/dist-packages (from torch->torchvision)\n",
            "Requirement already satisfied: numpy in /usr/local/lib/python3.6/dist-packages\n",
            "Requirement already satisfied: matplotlib in /usr/local/lib/python3.6/dist-packages\n",
            "Requirement already satisfied: six>=1.10 in /usr/local/lib/python3.6/dist-packages (from matplotlib)\n",
            "Requirement already satisfied: numpy>=1.7.1 in /usr/local/lib/python3.6/dist-packages (from matplotlib)\n",
            "Requirement already satisfied: pytz in /usr/local/lib/python3.6/dist-packages (from matplotlib)\n",
            "Requirement already satisfied: python-dateutil>=2.1 in /usr/local/lib/python3.6/dist-packages (from matplotlib)\n",
            "Requirement already satisfied: pyparsing!=2.0.4,!=2.1.2,!=2.1.6,>=2.0.1 in /usr/local/lib/python3.6/dist-packages (from matplotlib)\n",
            "Requirement already satisfied: cycler>=0.10 in /usr/local/lib/python3.6/dist-packages (from matplotlib)\n",
            "Requirement already satisfied: seaborn in /usr/local/lib/python3.6/dist-packages\n"
          ],
          "name": "stdout"
        }
      ]
    },
    {
      "metadata": {
        "id": "kBbDApmHDS5w",
        "colab_type": "text"
      },
      "cell_type": "markdown",
      "source": [
        "### Loading Helpful Packages\n",
        "First thing in any app is to include all of the dependencies for the project.\n",
        "\n",
        "\n",
        "\n",
        "1.   torch (PyTorch) and its specific sub-libraries - This handles all of our neural network setup, training and testing \n",
        "2.   torchvision - This is a specific sub-library for PyTorch for computer vision tasks\n",
        "3.   numpy - Generic matrix library for python\n",
        "4.   matplotlib and seaborn - graphing libraries for python\n",
        "\n"
      ]
    },
    {
      "metadata": {
        "id": "W3QR77nRkR4s",
        "colab_type": "code",
        "colab": {}
      },
      "cell_type": "code",
      "source": [
        "import torch\n",
        "import torch.nn as nn\n",
        "import torch.nn.functional as F\n",
        "import torch.optim as optim\n",
        "from torchvision import datasets, transforms\n",
        "from torch.autograd import Variable \n",
        "import numpy as np\n",
        "%matplotlib inline\n",
        "import matplotlib.pyplot as plt\n",
        "import seaborn as sns"
      ],
      "execution_count": 0,
      "outputs": []
    },
    {
      "metadata": {
        "id": "NcfM99agEFHO",
        "colab_type": "text"
      },
      "cell_type": "markdown",
      "source": [
        "### Setting up the Enviorment\n",
        "We are training our networks on GPUs so we need to make sure to see the random number generator there before we begin"
      ]
    },
    {
      "metadata": {
        "id": "72V5qql9lLpM",
        "colab_type": "code",
        "colab": {}
      },
      "cell_type": "code",
      "source": [
        "#Enable Cuda\n",
        "SEED = 1                              #Seed the random wieghts on initialization\n",
        "LOG_INTERVAL = 100                    #How often to log training and testing info \n",
        "torch.cuda.manual_seed(SEED)"
      ],
      "execution_count": 0,
      "outputs": []
    },
    {
      "metadata": {
        "id": "pkvzfupcEOw-",
        "colab_type": "text"
      },
      "cell_type": "markdown",
      "source": [
        "## Loading our Data\n",
        "First thing we are going to do is load our dataset. "
      ]
    },
    {
      "metadata": {
        "id": "wz9hy-CxaQjG",
        "colab_type": "text"
      },
      "cell_type": "markdown",
      "source": [
        "This dataset is called MNIST and it was created by Yann Lecun as a benchmark for handwritting recognition. \n",
        "As recognition systems got better, it transitioned to a way to teach people the fundimentals of image classification. The dataset consists of 60,000 training and 10,000 testing 28x28px images from 0-9 in grayscale and their labels. Because it is a common example PyTorch makes it easy to download and setup. \n",
        "\n",
        "\n",
        "We want to seperate our training and testing data to prevent what is called **overfitting**. Overfitting is when the model starts to memorize what is in its training set and when that happens it will not be as flexible to new images. So we never want to evaluate the performace of the model on the training data. We use a set of data the network has not seen before to assess how good the network is.\n",
        "\n",
        "\n",
        "### Dataset Hyper Parameters\n",
        "\n",
        "Notice there are two \"**Hyper Parameters**\", numbers that are not optimized by the model but have impact on the performace. There are more hyper parameters below but since we are right now creating our dataset we are going to start with these two: **Batch Size** and **Test Batch Size**. Batch Size defines how many images the model will try to classify before trying to update its weights. Since we are using **Stocastic Gradient Decent** (randomly sampling datapoints from the dataset instead of looking at the set in order), we can get irratic gradient behavior if we update too often with not enough information. A lot of times increasing batch size will improve accuracy of the network and the speed of training (by allowing you to take larger steps), but there is a hard limit on the size of your steps so ever increasing batch size may not be a good idea. The test batch size is less important and only defines how many instances of the model we evaluate at once.\n",
        "\n",
        "\n",
        "\n",
        "Feel free to tweak these numbers and see how it effects the training and accuracy of your models. Make sure to ```shift + enter``` after setting them to lock the values in\n",
        "\n",
        "\n",
        "### Data Preprocessing\n",
        "\n",
        "We dont usually just pass raw images to our model, since we want to reduce the varience in our dataset so distingushing images is an easier task. There are a couple common preprocessing techniques such as subtracting the mean of the dataset from each image and normalizing images. \n",
        "\n",
        "\n",
        "\n",
        "![Data Preprocessing - Credit: CS231n Stanford](http://cs231n.github.io/assets/nn2/prepro1.jpeg)\n",
        "\n",
        "\n",
        "\n",
        "\n",
        "We are going to normalize our data. Luckly pytorch makes this easy, using the transforms lambda functions. I provided the normalization values for you."
      ]
    },
    {
      "metadata": {
        "id": "u3m46zeMlNDI",
        "colab_type": "code",
        "colab": {}
      },
      "cell_type": "code",
      "source": [
        "#Dataloader\n",
        "#@title Batch Hyper Parameters\n",
        "BATCH_SIZE = 64           #@param {type:\"integer\"}  #Number of training images to process before updating weights\n",
        "TEST_BATCH_SIZE = 1000    #@param {type:\"number\"}   #Number of test images to process at once\n",
        "kwargs = {'num_workers': 1, 'pin_memory': True}\n",
        "train_loader  = torch.utils.data.DataLoader(\n",
        "    datasets.MNIST('/tmp/mnist/data', \n",
        "                   train=True, \n",
        "                   download=True, \n",
        "                   transform=transforms.Compose([\n",
        "                                transforms.ToTensor(),\n",
        "                                transforms.Normalize((0.1307,),\n",
        "                                                     (0.3081,))\n",
        "                              ])),\n",
        "    batch_size=BATCH_SIZE,\n",
        "    shuffle=True,\n",
        "    **kwargs)\n",
        "\n",
        "test_loader = torch.utils.data.DataLoader(\n",
        "    datasets.MNIST('/tmp/mnist/data', \n",
        "                   train=False, \n",
        "                   transform=transforms.Compose([\n",
        "                                transforms.ToTensor(),\n",
        "                                transforms.Normalize((0.1307,),\n",
        "                                                     (0.3081,))\n",
        "                                ])),\n",
        "    batch_size=TEST_BATCH_SIZE,\n",
        "    shuffle=True,\n",
        "    **kwargs\n",
        ")"
      ],
      "execution_count": 0,
      "outputs": []
    },
    {
      "metadata": {
        "id": "bfRjTshDiK5Q",
        "colab_type": "text"
      },
      "cell_type": "markdown",
      "source": [
        "## Creating the Learning Pipeline \n",
        "\n",
        "We are going now to layout all the systems to manage training and testing our model"
      ]
    },
    {
      "metadata": {
        "id": "zKMn-92HHuB8",
        "colab_type": "text"
      },
      "cell_type": "markdown",
      "source": [
        "### The Training Pipeline\n",
        "First we are going to define our **training pipeline**. This is the order of steps in which you go though to train your model on how to complete its task. \n",
        "First we start with setting the model to train mode. This allows the parameters in the model to change. This function represents 1 training **epoch**. An epoch is one full interation through the data set. We use the training dataset we created earlier to generate batches of data and their associated true labels. \n",
        "\n",
        "For each batch we go through the following steps:\n",
        "\n",
        "1. Move our data to our GPU\n",
        "2. Declare our data as Variables in the network\n",
        "3. Zero all the gradients in the network\n",
        "3. Run our data through the network and get the predictions\n",
        "4. Using out chosen loss function, calculate the loss function\n",
        "5. Calcuate the gradients $\\nabla_W$ of the loss with respect to the weights at each node in the network \n",
        "5. Update the weights in the network using $W_{t+1} = W_t - \\alpha \\nabla_W\\mathcal L$"
      ]
    },
    {
      "metadata": {
        "id": "Y3I4OdWz2M-k",
        "colab_type": "code",
        "colab": {}
      },
      "cell_type": "code",
      "source": [
        "def train(model, optimizer, loss_func, epoch, training_history):\n",
        "    model.train()                                            #Set training mode \n",
        "    for batch, (data, target) in enumerate(train_loader):\n",
        "        data, target = data.cuda(), target.cuda()            #Transfer data and correct result to the GPU\n",
        "        data, target = Variable(data), Variable(target)      #Make data and correct answers variables in the Network\n",
        "        optimizer.zero_grad()                                #zero the gradients\n",
        "        output = model(data)                                 #classify the data\n",
        "        loss = loss_func(output, target)                     #calculate the loss\n",
        "        loss.backward()                                      #propogate the weight updates through the network\n",
        "        optimizer.step()\n",
        "        if batch % LOG_INTERVAL == 0:\n",
        "            print('Train Epoch: {} [{}/{} ({:.0f}%)]\\tLoss: {:.6f}'.format(epoch, batch * len(data), len(train_loader.dataset), 100. * batch / len(train_loader), loss.data[0]))\n",
        "            training_history.append(((len(train_loader.dataset) * epoch) + batch * len(data), loss.data[0]))"
      ],
      "execution_count": 0,
      "outputs": []
    },
    {
      "metadata": {
        "id": "UKpltRSSKTkU",
        "colab_type": "text"
      },
      "cell_type": "markdown",
      "source": [
        "### Testing Pipeline\n",
        "Next we are going to define our **testing or inference pipeline**. During our training we want to intermittently chech the accuracy of our model. Since we don't want to do this with data the model has already seen we will show it new data that it will not remember since we will not be doing backpropogation here. You can see that the pipeline is almost the same with the changes after the data passes through the model and loss is calculated. Here we look at the probablilites outputed by the final layer of the models and find the index of the one with the highest. Each node corressponds to its index's value (e.g. index 0 means 0). We then compare the index of what was predicted to what was expected and calcuated the accuracy."
      ]
    },
    {
      "metadata": {
        "id": "JO0hgRhT3tEA",
        "colab_type": "code",
        "colab": {}
      },
      "cell_type": "code",
      "source": [
        "def test(model, loss_func, epoch, test_loss_history, test_accuracy_history):\n",
        "    model.eval()\n",
        "    test_loss = 0\n",
        "    correct = 0\n",
        "    for data, target in test_loader:\n",
        "        data, target = data.cuda(), target.cuda()                      #Transfer data and correct result to the GPU\n",
        "        data, target = Variable(data, volatile=True), Variable(target) #Make data and correct answers variables in the Network\n",
        "        output = model(data)                                           #classify the data\n",
        "        test_loss += loss_func(output, target).data[0]                 #calculate loss\n",
        "        pred = output.data.max(1)[1]                                   #get predictions for the batch using argmax\n",
        "        correct += pred.eq(target.data).cpu().sum()                    #total correct anwsers \n",
        "    test_loss /= len(test_loader)\n",
        "    print('\\nTest set: Average loss: {:.4f}, Accuracy: {}/{} ({:.0f}%)\\n'.format(test_loss, correct, len(test_loader.dataset), 100. * correct / len(test_loader.dataset)))\n",
        "    test_loss_history.append((epoch, test_loss))\n",
        "    test_accuracy_history.append((epoch, 100. * correct / len(test_loader.dataset)))"
      ],
      "execution_count": 0,
      "outputs": []
    },
    {
      "metadata": {
        "id": "PRuITEFVh5Ns",
        "colab_type": "text"
      },
      "cell_type": "markdown",
      "source": [
        "This function controls our full training of the model. It takes in a model definition, a selected optimizer and selected loss function and then returns metrics on how the training went and as a byproduct also trains the model. As you can see the learning pipeline iterates according to the number of epochs or the number of times that you want the model to go though the full dataset"
      ]
    },
    {
      "metadata": {
        "id": "71n4Eepdhz5U",
        "colab_type": "code",
        "colab": {}
      },
      "cell_type": "code",
      "source": [
        "def learn(model, optimizer, loss_func):\n",
        "    training_loss = []\n",
        "    test_loss = []\n",
        "    test_accuracy = []\n",
        "    for e in range(EPOCHS):\n",
        "        train(model, optimizer, loss_func, e + 1, training_loss)\n",
        "        test(model, loss_func, e + 1, test_loss, test_accuracy)\n",
        "    return (training_loss, test_loss, test_accuracy)"
      ],
      "execution_count": 0,
      "outputs": []
    },
    {
      "metadata": {
        "id": "ZHBC9u5mLU2k",
        "colab_type": "text"
      },
      "cell_type": "markdown",
      "source": [
        "### Helpful Utilities\n",
        "The following function is a function to visualize the learning process, plotting the training loss, testing loss and testing accuracy over time. "
      ]
    },
    {
      "metadata": {
        "id": "siakJmVD32B2",
        "colab_type": "code",
        "colab": {}
      },
      "cell_type": "code",
      "source": [
        "def visualize_learning(training_loss, test_loss, test_accuracy):\n",
        "    f1 = plt.figure()\n",
        "    f2 = plt.figure()\n",
        "    f3 = plt.figure()\n",
        "    ax1 = f1.add_subplot(111)\n",
        "    ax2 = f2.add_subplot(111)\n",
        "    ax3 = f3.add_subplot(111)\n",
        "\n",
        "    training_loss_batch, training_loss_values = zip(*training_loss)\n",
        "    ax1.plot(training_loss_batch, training_loss_values)\n",
        "    ax1.set_title('Training Loss')\n",
        "    ax1.set_xlabel(\"Batch\")\n",
        "    ax1.set_ylabel(\"Loss\")\n",
        "\n",
        "\n",
        "    test_loss_epoch, test_loss_values = zip(*test_loss)\n",
        "    ax2.plot(test_loss_epoch, test_loss_values)\n",
        "    ax2.set_title(\"Testing Loss\")\n",
        "    ax2.set_xlabel(\"Batch\")\n",
        "    ax2.set_ylabel(\"Loss\")\n",
        "\n",
        "    test_accuracy_epoch, test_accuracy_values = zip(*test_accuracy)\n",
        "    ax3.plot(test_accuracy_epoch, test_accuracy_values)\n",
        "    ax3.set_title(\"Testing Accuracy\")\n",
        "    ax3.set_xlabel(\"Batch\")\n",
        "    ax3.set_ylabel(\"Accuracy (%)\")\n",
        "\n",
        "    plt.show()"
      ],
      "execution_count": 0,
      "outputs": []
    },
    {
      "metadata": {
        "id": "x6mf8ihXME1e",
        "colab_type": "text"
      },
      "cell_type": "markdown",
      "source": [
        "This function conducts inference on a single image"
      ]
    },
    {
      "metadata": {
        "id": "6Rb_j3Mc_qxy",
        "colab_type": "code",
        "colab": {}
      },
      "cell_type": "code",
      "source": [
        "def classify(model, img):\n",
        "    img = img.cuda()\n",
        "    img = Variable(img, volatile=True)\n",
        "    output = model(img)\n",
        "    return output.data.max(1)[1]"
      ],
      "execution_count": 0,
      "outputs": []
    },
    {
      "metadata": {
        "id": "2adnU7tMMIaa",
        "colab_type": "text"
      },
      "cell_type": "markdown",
      "source": [
        "This function takes an image from the testing set and runs inference on it"
      ]
    },
    {
      "metadata": {
        "id": "WLo7idJB_vRm",
        "colab_type": "code",
        "colab": {}
      },
      "cell_type": "code",
      "source": [
        "def classify_an_example(model):\n",
        "    img = next(iter(test_loader))[0]\n",
        "    img_np = img.cpu().numpy()[0]\n",
        "    plt.imshow(img_np.reshape(28,28))\n",
        "    print()\n",
        "    print(\"The image is probably: {}\".format(classify(model, img)[0]))\n",
        "    print()"
      ],
      "execution_count": 0,
      "outputs": []
    },
    {
      "metadata": {
        "id": "hfHivH42ujUc",
        "colab_type": "text"
      },
      "cell_type": "markdown",
      "source": [
        "## Implementing Sofmax Regression"
      ]
    },
    {
      "metadata": {
        "id": "dWsgeSsbMOmo",
        "colab_type": "text"
      },
      "cell_type": "markdown",
      "source": [
        "Our first model of the day is going to be softmax regression. This model can be summed up as simultaneously calculating the probablity that an image is any of the 10 classes at the same time using a set of parameters that represent the importance of particular pixels in the image. \n",
        "\n",
        "We use the function $P(y' = \\{1..10\\}) = \\sigma(w^Tx + b)$ where $\\sigma = \\frac{e^{ \\boldsymbol x}} {\\sum_\\limits{i \\in dim \\boldsymbol x} e^{\\boldsymbol x_i}}$ to calculate the probablity and we use gradient decent to find the weights. \n"
      ]
    },
    {
      "metadata": {
        "id": "1Rs0kBMjinJ-",
        "colab_type": "text"
      },
      "cell_type": "markdown",
      "source": [
        "### Defining the Model\n",
        "Pytorch has a super easy way to define machine learning models. We create a sub class of the pytorch class ```torch.nn.Module``` listing out the layers of our model in our ```__init__``` method and the operations between those layers in the method called ```forward```. The ```torch.nn.Module``` super class handles the implementation of the backpropogation.\n",
        "\n",
        "Go a head and try to fill in what you think a SoftmaxRegression Model would look like.\n",
        "\n",
        "Here are some useful functions:\n",
        "\n",
        "- ```torch.nn.Linear``` -> Fully Connected Layer / Impliments $F(\\boldsymbol x) = \\boldsymbol w^T \\boldsymbol x + \\boldsymbol b$\n",
        "- ```torch.nn.Functional.softmax``` -> Softmax function / Implements $F(x) = \\frac{e^{ \\boldsymbol x}} {\\sum_\\limits{i \\in dim \\boldsymbol x} e^{\\boldsymbol x_i} }$\n",
        "- ```torch.nn.Functional.log_softmax``` -> Log of the softmax function / Implements $F(x) = log(\\frac{e^{ \\boldsymbol x}} {\\sum_\\limits{i \\in dim \\boldsymbol x} e^{\\boldsymbol x_i} })$\n",
        "- ```torch.Tensor.view``` -> allows you to reshape a **Tensor** (multi-dimentional vector)"
      ]
    },
    {
      "metadata": {
        "id": "_vf5mWsxupFy",
        "colab_type": "code",
        "colab": {}
      },
      "cell_type": "code",
      "source": [
        "class SoftmaxRegression(nn.Module):\n",
        "    def __init__(self):\n",
        "        super(SoftmaxRegression, self).__init__()\n",
        "        self.fc = nn.Linear(784, 10)\n",
        "    def forward(self, x):\n",
        "        x = x.view(-1, 784)\n",
        "        return F.softmax(self.fc(x), dim=1)"
      ],
      "execution_count": 0,
      "outputs": []
    },
    {
      "metadata": {
        "id": "KbrDKZg6R2lu",
        "colab_type": "text"
      },
      "cell_type": "markdown",
      "source": [
        "### Training the Model\n",
        "Now that we have a model definition, we can train it on our dataset. Below you can see a couple more hyper parameters. \n",
        "\n",
        "- **epochs** -> The number of times we show the training dataset to the model \n",
        "- **learning rate** -> The size of the step we take each time we go through backpropogation (i.e. the $\\alpha$ in $W_{t+1} = W_t - \\alpha \\nabla_W\\mathcal L$)\n",
        "- **momentum** (_Note: this will only apply if you use SGD_) -> We don't want to get stuck in local minima in the loss landscape so we may want to not let a particularly bad batch prevent otherwise good progress. We can redefine the parameter update procedure as $W_{t+1} = W_t - \\alpha V_t$ and $V_t = \\beta V_{t-1} + (1 - \\beta)\\nabla_W\\mathcal L$ where $\\beta$\n",
        "is our notion of momentum\n",
        "\n",
        "Set these values to something you think might be reasonable and see what happens. Make sure to ```shift+enter``` to lock them in."
      ]
    },
    {
      "metadata": {
        "id": "RlmXFR7UBUo4",
        "colab_type": "code",
        "colab": {}
      },
      "cell_type": "code",
      "source": [
        "#@title Training Hyper Parameters\n",
        "EPOCHS = 10                #@param {type:\"integer\"}           #Number of times to go through the data set\n",
        "LEARNING_RATE = 0.001     #@param {type:\"number\"}            #How far each update pushes the weights\n",
        "SGD_MOMENTUM = 0.5        #@param {type:\"number\"}            #How much it takes to change the direction of the gradient\n"
      ],
      "execution_count": 0,
      "outputs": []
    },
    {
      "metadata": {
        "id": "aIWaEZBhcrVQ",
        "colab_type": "text"
      },
      "cell_type": "markdown",
      "source": [
        "Now we can create an instance of our model and transfer it to the GPU (using the ```nn.Module.cuda``` method).\n",
        "\n",
        "Now chose your optimizer, there are a bunch of choices (the most common one is **Stocastic Gradient Decent**, but others include ADAM, ADA and more). Take a look at http://pytorch.org/docs/master/optim.html#algorithms for a list of choices, but if you need a recomendation use ```torch.optim.SGD```\n",
        "\n",
        "Next we need to pick a **loss** function. This function calcaluates how far off our prediction was from the expected value. Again there are a whole bunch of options. Here is a list http://pytorch.org/docs/master/nn.html#id46\n",
        "If you are not sure what to choose then use ```torch.nn.functional.nll_loss``` which is negative log likelihood loss ($L(y) = -log(y)$) a common function to use with softmax\n",
        "\n"
      ]
    },
    {
      "metadata": {
        "id": "MOHTgx03BdT8",
        "colab_type": "code",
        "colab": {
          "base_uri": "https://localhost:8080/",
          "height": 2327
        },
        "outputId": "441e11b9-01dd-4f28-87be-4444708f106e"
      },
      "cell_type": "code",
      "source": [
        "sr_model = SoftmaxRegression()\n",
        "sr_model.cuda()\n",
        "sr_optimizer = optim.SGD(sr_model.parameters(), lr=LEARNING_RATE, momentum=SGD_MOMENTUM)\n",
        "print(sr_model)\n",
        "SR_TRAINING_LOSS, SR_TEST_LOSS, SR_TEST_ACCURACY = learn(sr_model, sr_optimizer, F.nll_loss) #negative loss values may be due to your final layer"
      ],
      "execution_count": 20,
      "outputs": [
        {
          "output_type": "stream",
          "text": [
            "SoftmaxRegression(\n",
            "  (fc): Linear(in_features=784, out_features=10)\n",
            ")\n",
            "Train Epoch: 1 [0/60000 (0%)]\tLoss: -0.086829\n",
            "Train Epoch: 1 [6400/60000 (11%)]\tLoss: -0.100926\n",
            "Train Epoch: 1 [12800/60000 (21%)]\tLoss: -0.128526\n",
            "Train Epoch: 1 [19200/60000 (32%)]\tLoss: -0.175426\n",
            "Train Epoch: 1 [25600/60000 (43%)]\tLoss: -0.224740\n",
            "Train Epoch: 1 [32000/60000 (53%)]\tLoss: -0.264054\n",
            "Train Epoch: 1 [38400/60000 (64%)]\tLoss: -0.394530\n",
            "Train Epoch: 1 [44800/60000 (75%)]\tLoss: -0.339074\n",
            "Train Epoch: 1 [51200/60000 (85%)]\tLoss: -0.411560\n",
            "Train Epoch: 1 [57600/60000 (96%)]\tLoss: -0.433010\n",
            "\n",
            "Test set: Average loss: -0.4495, Accuracy: 5488/10000 (55%)\n",
            "\n",
            "Train Epoch: 2 [0/60000 (0%)]\tLoss: -0.394009\n",
            "Train Epoch: 2 [6400/60000 (11%)]\tLoss: -0.402880\n",
            "Train Epoch: 2 [12800/60000 (21%)]\tLoss: -0.506822\n",
            "Train Epoch: 2 [19200/60000 (32%)]\tLoss: -0.503808\n",
            "Train Epoch: 2 [25600/60000 (43%)]\tLoss: -0.453076\n",
            "Train Epoch: 2 [32000/60000 (53%)]\tLoss: -0.421061\n",
            "Train Epoch: 2 [38400/60000 (64%)]\tLoss: -0.488321\n",
            "Train Epoch: 2 [44800/60000 (75%)]\tLoss: -0.663269\n",
            "Train Epoch: 2 [51200/60000 (85%)]\tLoss: -0.588779\n",
            "Train Epoch: 2 [57600/60000 (96%)]\tLoss: -0.606462\n",
            "\n",
            "Test set: Average loss: -0.5962, Accuracy: 6889/10000 (69%)\n",
            "\n",
            "Train Epoch: 3 [0/60000 (0%)]\tLoss: -0.633772\n",
            "Train Epoch: 3 [6400/60000 (11%)]\tLoss: -0.638195\n",
            "Train Epoch: 3 [12800/60000 (21%)]\tLoss: -0.587328\n",
            "Train Epoch: 3 [19200/60000 (32%)]\tLoss: -0.627944\n",
            "Train Epoch: 3 [25600/60000 (43%)]\tLoss: -0.645004\n",
            "Train Epoch: 3 [32000/60000 (53%)]\tLoss: -0.707545\n",
            "Train Epoch: 3 [38400/60000 (64%)]\tLoss: -0.756923\n",
            "Train Epoch: 3 [44800/60000 (75%)]\tLoss: -0.639084\n",
            "Train Epoch: 3 [51200/60000 (85%)]\tLoss: -0.658938\n",
            "Train Epoch: 3 [57600/60000 (96%)]\tLoss: -0.637114\n",
            "\n",
            "Test set: Average loss: -0.7042, Accuracy: 8354/10000 (84%)\n",
            "\n",
            "Train Epoch: 4 [0/60000 (0%)]\tLoss: -0.643507\n",
            "Train Epoch: 4 [6400/60000 (11%)]\tLoss: -0.699406\n",
            "Train Epoch: 4 [12800/60000 (21%)]\tLoss: -0.758530\n",
            "Train Epoch: 4 [19200/60000 (32%)]\tLoss: -0.751744\n",
            "Train Epoch: 4 [25600/60000 (43%)]\tLoss: -0.728562\n",
            "Train Epoch: 4 [32000/60000 (53%)]\tLoss: -0.697272\n",
            "Train Epoch: 4 [38400/60000 (64%)]\tLoss: -0.770004\n",
            "Train Epoch: 4 [44800/60000 (75%)]\tLoss: -0.707418\n",
            "Train Epoch: 4 [51200/60000 (85%)]\tLoss: -0.762647\n",
            "Train Epoch: 4 [57600/60000 (96%)]\tLoss: -0.811560\n",
            "\n",
            "Test set: Average loss: -0.7655, Accuracy: 8672/10000 (87%)\n",
            "\n",
            "Train Epoch: 5 [0/60000 (0%)]\tLoss: -0.702375\n",
            "Train Epoch: 5 [6400/60000 (11%)]\tLoss: -0.766319\n",
            "Train Epoch: 5 [12800/60000 (21%)]\tLoss: -0.748925\n",
            "Train Epoch: 5 [19200/60000 (32%)]\tLoss: -0.774634\n",
            "Train Epoch: 5 [25600/60000 (43%)]\tLoss: -0.773142\n",
            "Train Epoch: 5 [32000/60000 (53%)]\tLoss: -0.714538\n",
            "Train Epoch: 5 [38400/60000 (64%)]\tLoss: -0.714135\n",
            "Train Epoch: 5 [44800/60000 (75%)]\tLoss: -0.734359\n",
            "Train Epoch: 5 [51200/60000 (85%)]\tLoss: -0.803678\n",
            "Train Epoch: 5 [57600/60000 (96%)]\tLoss: -0.777720\n",
            "\n",
            "Test set: Average loss: -0.7926, Accuracy: 8746/10000 (87%)\n",
            "\n",
            "Train Epoch: 6 [0/60000 (0%)]\tLoss: -0.768141\n",
            "Train Epoch: 6 [6400/60000 (11%)]\tLoss: -0.775376\n",
            "Train Epoch: 6 [12800/60000 (21%)]\tLoss: -0.787973\n",
            "Train Epoch: 6 [19200/60000 (32%)]\tLoss: -0.857725\n",
            "Train Epoch: 6 [25600/60000 (43%)]\tLoss: -0.765748\n"
          ],
          "name": "stdout"
        },
        {
          "output_type": "stream",
          "text": [
            "Train Epoch: 6 [32000/60000 (53%)]\tLoss: -0.843142\n",
            "Train Epoch: 6 [38400/60000 (64%)]\tLoss: -0.734277\n",
            "Train Epoch: 6 [44800/60000 (75%)]\tLoss: -0.809047\n",
            "Train Epoch: 6 [51200/60000 (85%)]\tLoss: -0.714007\n",
            "Train Epoch: 6 [57600/60000 (96%)]\tLoss: -0.827553\n",
            "\n",
            "Test set: Average loss: -0.8091, Accuracy: 8820/10000 (88%)\n",
            "\n",
            "Train Epoch: 7 [0/60000 (0%)]\tLoss: -0.843280\n",
            "Train Epoch: 7 [6400/60000 (11%)]\tLoss: -0.787827\n",
            "Train Epoch: 7 [12800/60000 (21%)]\tLoss: -0.810713\n",
            "Train Epoch: 7 [19200/60000 (32%)]\tLoss: -0.856809\n",
            "Train Epoch: 7 [25600/60000 (43%)]\tLoss: -0.793119\n",
            "Train Epoch: 7 [32000/60000 (53%)]\tLoss: -0.808486\n",
            "Train Epoch: 7 [38400/60000 (64%)]\tLoss: -0.757858\n",
            "Train Epoch: 7 [44800/60000 (75%)]\tLoss: -0.791215\n",
            "Train Epoch: 7 [51200/60000 (85%)]\tLoss: -0.798329\n",
            "Train Epoch: 7 [57600/60000 (96%)]\tLoss: -0.786131\n",
            "\n",
            "Test set: Average loss: -0.8206, Accuracy: 8842/10000 (88%)\n",
            "\n",
            "Train Epoch: 8 [0/60000 (0%)]\tLoss: -0.855235\n",
            "Train Epoch: 8 [6400/60000 (11%)]\tLoss: -0.750542\n",
            "Train Epoch: 8 [12800/60000 (21%)]\tLoss: -0.826152\n",
            "Train Epoch: 8 [19200/60000 (32%)]\tLoss: -0.805050\n",
            "Train Epoch: 8 [25600/60000 (43%)]\tLoss: -0.833844\n",
            "Train Epoch: 8 [32000/60000 (53%)]\tLoss: -0.767484\n",
            "Train Epoch: 8 [38400/60000 (64%)]\tLoss: -0.831814\n",
            "Train Epoch: 8 [44800/60000 (75%)]\tLoss: -0.797929\n",
            "Train Epoch: 8 [51200/60000 (85%)]\tLoss: -0.848143\n",
            "Train Epoch: 8 [57600/60000 (96%)]\tLoss: -0.833257\n",
            "\n",
            "Test set: Average loss: -0.8291, Accuracy: 8882/10000 (89%)\n",
            "\n",
            "Train Epoch: 9 [0/60000 (0%)]\tLoss: -0.831268\n",
            "Train Epoch: 9 [6400/60000 (11%)]\tLoss: -0.804189\n",
            "Train Epoch: 9 [12800/60000 (21%)]\tLoss: -0.789172\n",
            "Train Epoch: 9 [19200/60000 (32%)]\tLoss: -0.859128\n",
            "Train Epoch: 9 [25600/60000 (43%)]\tLoss: -0.852398\n",
            "Train Epoch: 9 [32000/60000 (53%)]\tLoss: -0.803412\n",
            "Train Epoch: 9 [38400/60000 (64%)]\tLoss: -0.864079\n",
            "Train Epoch: 9 [44800/60000 (75%)]\tLoss: -0.860060\n",
            "Train Epoch: 9 [51200/60000 (85%)]\tLoss: -0.800804\n",
            "Train Epoch: 9 [57600/60000 (96%)]\tLoss: -0.865244\n",
            "\n",
            "Test set: Average loss: -0.8359, Accuracy: 8900/10000 (89%)\n",
            "\n",
            "Train Epoch: 10 [0/60000 (0%)]\tLoss: -0.849375\n",
            "Train Epoch: 10 [6400/60000 (11%)]\tLoss: -0.868216\n",
            "Train Epoch: 10 [12800/60000 (21%)]\tLoss: -0.836641\n",
            "Train Epoch: 10 [19200/60000 (32%)]\tLoss: -0.821536\n",
            "Train Epoch: 10 [25600/60000 (43%)]\tLoss: -0.838212\n",
            "Train Epoch: 10 [32000/60000 (53%)]\tLoss: -0.922329\n",
            "Train Epoch: 10 [38400/60000 (64%)]\tLoss: -0.804523\n",
            "Train Epoch: 10 [44800/60000 (75%)]\tLoss: -0.774158\n",
            "Train Epoch: 10 [51200/60000 (85%)]\tLoss: -0.824621\n",
            "Train Epoch: 10 [57600/60000 (96%)]\tLoss: -0.824176\n",
            "\n",
            "Test set: Average loss: -0.8414, Accuracy: 8922/10000 (89%)\n",
            "\n"
          ],
          "name": "stdout"
        }
      ]
    },
    {
      "metadata": {
        "id": "INxKbaMXi7X-",
        "colab_type": "text"
      },
      "cell_type": "markdown",
      "source": [
        "### Visualizing How Well the Training Went\n",
        "\n",
        "Now we should have a reasonably well trained model. Lets see how the train went. Use the visualization function to plot the **training loss**, **testing loss** and **testing accuracy** over the course of the training. \n",
        "\n",
        "_Notice: We do not measure the training accuracy, since it is not a good measure of how good the model is since we are looking for a model that has good performace **on data not yet seen**_\n",
        "\n",
        "We should see the training loss quickly decline then plateau. \n",
        "  - If you are seeing jagged training loss perhaps increase the batch size or decrease the learning rate \n",
        "  \n",
        "You should see that the testing loss more gradually reduces \n",
        "  - if you see the testing loss starting to go up, you are now overfitting - probably reduce the number of epochs\n",
        "\n",
        "You should also see the testing accuracy increase at the same rate the testing loss decreases"
      ]
    },
    {
      "metadata": {
        "id": "oXV30DFXBwvC",
        "colab_type": "code",
        "colab": {
          "base_uri": "https://localhost:8080/",
          "height": 848
        },
        "outputId": "79d6b4fa-c125-4f0b-9315-e9c3c6378978"
      },
      "cell_type": "code",
      "source": [
        "visualize_learning(SR_TRAINING_LOSS, SR_TEST_LOSS, SR_TEST_ACCURACY)"
      ],
      "execution_count": 21,
      "outputs": [
        {
          "output_type": "display_data",
          "data": {
            "image/png": "[encoded data removed]",
            "text/plain": [
              "<matplotlib.figure.Figure at 0x7fa3def4b390>"
            ]
          },
          "metadata": {
            "tags": []
          }
        },
        {
          "output_type": "display_data",
          "data": {
            "image/png": "[encoded data removed]",
            "text/plain": [
              "<matplotlib.figure.Figure at 0x7fa3def4b9b0>"
            ]
          },
          "metadata": {
            "tags": []
          }
        },
        {
          "output_type": "display_data",
          "data": {
            "image/png": "[encoded data removed]",
            "text/plain": [
              "<matplotlib.figure.Figure at 0x7fa3def4d048>"
            ]
          },
          "metadata": {
            "tags": []
          }
        }
      ]
    },
    {
      "metadata": {
        "id": "dly0VRlPljhK",
        "colab_type": "text"
      },
      "cell_type": "markdown",
      "source": [
        "### Trying an Example on Your Trained Model\n",
        "\n",
        "Use the ```classify_an_example``` helper function to classify an example from the testing set"
      ]
    },
    {
      "metadata": {
        "id": "HjbEmbtOBzxm",
        "colab_type": "code",
        "colab": {
          "base_uri": "https://localhost:8080/",
          "height": 317
        },
        "outputId": "1eff5ce7-802a-4477-b550-58e473b4a8b0"
      },
      "cell_type": "code",
      "source": [
        "classify_an_example(sr_model)"
      ],
      "execution_count": 22,
      "outputs": [
        {
          "output_type": "stream",
          "text": [
            "\n",
            "The image is probably: 2\n",
            "\n"
          ],
          "name": "stdout"
        },
        {
          "output_type": "display_data",
          "data": {
            "image/png": "[encoded data removed]",
            "text/plain": [
              "<matplotlib.figure.Figure at 0x7fa3def3e668>"
            ]
          },
          "metadata": {
            "tags": []
          }
        }
      ]
    },
    {
      "metadata": {
        "id": "0sZxJW0OzAMm",
        "colab_type": "text"
      },
      "cell_type": "markdown",
      "source": [
        "## Implementing Multilayer Perceptron\n",
        "\n",
        "Next we are going to implement a mulilayer perceptron. Each layer weights the importance of the data from the previous layer, eventually terminating in the same sigmoid function to convert the representation vector of the input data into a probablity. Between each layer we now include a **non-linearity or activation function**, a function that allows the model to approximate non linear functions and filter data between layers.\n",
        "\n",
        "Each layer of the MLP now looks like this $relu(w^Tx +b)$ and the full model becomes $\\sigma(w^T relu(w^T relu(w^Tx + b)+ b) + b)$\n",
        "\n",
        "Again we train this model with gradient decent"
      ]
    },
    {
      "metadata": {
        "id": "-p_YFjAKnTD6",
        "colab_type": "text"
      },
      "cell_type": "markdown",
      "source": [
        "### Defining the Model\n",
        "Once again we are going to create a sub class of the pytorch class ```torch.nn.Module``` listing out the layers of our model in our ```__init__``` method and the operations between those layers in the method called ```forward```. The ```torch.nn.Module``` super class handles the implementation of the backpropogation.\n",
        "\n",
        "Go a head and try to fill in what you think a Multilayer Perceptron Model would look like.\n",
        "\n",
        "Here are some useful functions:\n",
        "\n",
        "- ```torch.nn.Linear``` -> Fully Connected Layer / Impliments $F(\\boldsymbol x) = \\boldsymbol w^T \\boldsymbol x + \\boldsymbol b$\n",
        "- ```torch.nn.Functional.relu``` -> Rectifying Linear Unit / Implements $max(0,x)$ \n",
        "    - Other activation functions can be found here: http://pytorch.org/docs/master/nn.html#non-linear-activation-functions \n",
        "- ```torch.nn.Functional.softmax``` -> Softmax function / Implements $F(x) = \\frac{e^{ \\boldsymbol x}} {\\sum_\\limits{i \\in dim \\boldsymbol x} e^{\\boldsymbol x_i} }$\n",
        "- ```torch.nn.Functional.log_softmax``` -> Log of the softmax function / Implements $F(x) = log(\\frac{e^{ \\boldsymbol x}} {\\sum_\\limits{i \\in dim \\boldsymbol x} e^{\\boldsymbol x_i} })$\n",
        "- ```torch.Tensor.view``` -> allows you to reshape a **Tensor** (multi-dimentional vector)"
      ]
    },
    {
      "metadata": {
        "id": "LdVgA9-Ty_lA",
        "colab_type": "code",
        "colab": {}
      },
      "cell_type": "code",
      "source": [
        "class MLP(nn.Module):\n",
        "    def __init__(self):\n",
        "        super(MLP, self).__init__()\n",
        "        self.fc1 = nn.Linear(784, 500)\n",
        "        self.fc2 = nn.Linear(500, 500)\n",
        "        self.fc3 = nn.Linear(500, 500)\n",
        "        self.fc4 = nn.Linear(500,10)\n",
        "    def forward(self, x):\n",
        "        x = x.view(-1, 784)\n",
        "        x = F.relu(self.fc1(x)) \n",
        "        x = F.relu(self.fc2(x))\n",
        "        x = F.relu(self.fc3(x))\n",
        "        x = F.relu(self.fc4(x))\n",
        "        return F.log_softmax(x, dim=1)"
      ],
      "execution_count": 0,
      "outputs": []
    },
    {
      "metadata": {
        "id": "YREbJAQRnlIw",
        "colab_type": "text"
      },
      "cell_type": "markdown",
      "source": [
        "### Training the Model\n",
        "Again we are going to set our training hyper parameters\n",
        "\n",
        "- **epochs** -> The number of times we show the training dataset to the model \n",
        "- **learning rate** -> The size of the step we take each time we go through backpropogation (i.e. the $\\alpha$ in $W_{t+1} = W_t - \\alpha \\nabla_W\\mathcal L$)\n",
        "- **momentum** (_Note: this will only apply if you use SGD_) -> We don't want to get stuck in local minima in the loss landscape so we may want to not let a particularly bad batch prevent otherwise good progress. We can redefine the parameter update procedure as $W_{t+1} = W_t - \\alpha V_t$ and $V_t = \\beta V_{t-1} + (1 - \\beta)\\nabla_W\\mathcal L$ where $\\beta$\n",
        "is our notion of momentum\n",
        "\n",
        "Set these values to something you think might be reasonable and see what happens. Make sure to ```shift+enter``` to lock them in."
      ]
    },
    {
      "metadata": {
        "id": "D9cKjBv79-Ru",
        "colab_type": "code",
        "colab": {}
      },
      "cell_type": "code",
      "source": [
        "#@title Training Hyper Parameters\n",
        "EPOCHS = 15                #@param {type:\"integer\"}           #Number of times to go through the data set\n",
        "SGD_MOMENTUM = 0.5        #@param {type:\"number\"}            #How much it takes to change the direction of the gradient\n",
        "LEARNING_RATE = 0.001     #@param {type:\"number\"}            #How far each update pushes the weights\n"
      ],
      "execution_count": 0,
      "outputs": []
    },
    {
      "metadata": {
        "id": "WIIjJECtn6Dk",
        "colab_type": "text"
      },
      "cell_type": "markdown",
      "source": [
        "Again create an instance of your model and transfer it to the GPU (using the ```nn.Module.cuda``` method).\n",
        "\n",
        "Now chose your optimizer. Take a look at http://pytorch.org/docs/master/optim.html#algorithms for a list of choices, but if you need a recomendation use ```torch.optim.SGD```\n",
        "\n",
        "Next we need to pick a **loss** function.  Here is a list http://pytorch.org/docs/master/nn.html#id46\n",
        "If you are not sure what to choose then use ```torch.nn.functional.nll_loss``` which is negative log likelihood loss ($L(y) = -log(y)$) a common function to use with softmax"
      ]
    },
    {
      "metadata": {
        "id": "cG7X1IAh0PAC",
        "colab_type": "code",
        "colab": {
          "base_uri": "https://localhost:8080/",
          "height": 3508
        },
        "outputId": "dfeff616-fc53-4356-a5ca-c25c1123b025"
      },
      "cell_type": "code",
      "source": [
        "mlp_model = MLP()\n",
        "mlp_model.cuda()\n",
        "mlp_optimizer = optim.SGD(mlp_model.parameters(), lr=LEARNING_RATE, momentum=SGD_MOMENTUM)\n",
        "print(mlp_model)\n",
        "MLP_TRAINING_LOSS, MLP_TEST_LOSS, MLP_TEST_ACCURACY = learn(mlp_model, mlp_optimizer, F.nll_loss)"
      ],
      "execution_count": 29,
      "outputs": [
        {
          "output_type": "stream",
          "text": [
            "MLP(\n",
            "  (fc1): Linear(in_features=784, out_features=500)\n",
            "  (fc2): Linear(in_features=500, out_features=500)\n",
            "  (fc3): Linear(in_features=500, out_features=500)\n",
            "  (fc4): Linear(in_features=500, out_features=10)\n",
            ")\n",
            "Train Epoch: 1 [0/60000 (0%)]\tLoss: 2.302263\n",
            "Train Epoch: 1 [6400/60000 (11%)]\tLoss: 2.289508\n",
            "Train Epoch: 1 [12800/60000 (21%)]\tLoss: 2.277936\n",
            "Train Epoch: 1 [19200/60000 (32%)]\tLoss: 2.283029\n",
            "Train Epoch: 1 [25600/60000 (43%)]\tLoss: 2.264199\n",
            "Train Epoch: 1 [32000/60000 (53%)]\tLoss: 2.263595\n",
            "Train Epoch: 1 [38400/60000 (64%)]\tLoss: 2.260824\n",
            "Train Epoch: 1 [44800/60000 (75%)]\tLoss: 2.200495\n",
            "Train Epoch: 1 [51200/60000 (85%)]\tLoss: 2.187876\n",
            "Train Epoch: 1 [57600/60000 (96%)]\tLoss: 2.205881\n",
            "\n",
            "Test set: Average loss: 2.1789, Accuracy: 4316/10000 (43%)\n",
            "\n",
            "Train Epoch: 2 [0/60000 (0%)]\tLoss: 2.209007\n",
            "Train Epoch: 2 [6400/60000 (11%)]\tLoss: 2.092618\n",
            "Train Epoch: 2 [12800/60000 (21%)]\tLoss: 2.095743\n",
            "Train Epoch: 2 [19200/60000 (32%)]\tLoss: 2.037634\n",
            "Train Epoch: 2 [25600/60000 (43%)]\tLoss: 2.015378\n",
            "Train Epoch: 2 [32000/60000 (53%)]\tLoss: 2.050904\n",
            "Train Epoch: 2 [38400/60000 (64%)]\tLoss: 1.887636\n",
            "Train Epoch: 2 [44800/60000 (75%)]\tLoss: 1.893666\n",
            "Train Epoch: 2 [51200/60000 (85%)]\tLoss: 1.906295\n",
            "Train Epoch: 2 [57600/60000 (96%)]\tLoss: 1.906831\n",
            "\n",
            "Test set: Average loss: 1.7455, Accuracy: 4722/10000 (47%)\n",
            "\n",
            "Train Epoch: 3 [0/60000 (0%)]\tLoss: 1.793579\n",
            "Train Epoch: 3 [6400/60000 (11%)]\tLoss: 1.720945\n",
            "Train Epoch: 3 [12800/60000 (21%)]\tLoss: 1.453315\n",
            "Train Epoch: 3 [19200/60000 (32%)]\tLoss: 1.609054\n",
            "Train Epoch: 3 [25600/60000 (43%)]\tLoss: 1.599209\n",
            "Train Epoch: 3 [32000/60000 (53%)]\tLoss: 1.499175\n",
            "Train Epoch: 3 [38400/60000 (64%)]\tLoss: 1.463457\n",
            "Train Epoch: 3 [44800/60000 (75%)]\tLoss: 1.504310\n",
            "Train Epoch: 3 [51200/60000 (85%)]\tLoss: 1.409622\n",
            "Train Epoch: 3 [57600/60000 (96%)]\tLoss: 1.323764\n",
            "\n",
            "Test set: Average loss: 1.2800, Accuracy: 6279/10000 (63%)\n",
            "\n",
            "Train Epoch: 4 [0/60000 (0%)]\tLoss: 1.393900\n",
            "Train Epoch: 4 [6400/60000 (11%)]\tLoss: 1.279376\n",
            "Train Epoch: 4 [12800/60000 (21%)]\tLoss: 1.414317\n",
            "Train Epoch: 4 [19200/60000 (32%)]\tLoss: 1.093115\n",
            "Train Epoch: 4 [25600/60000 (43%)]\tLoss: 1.525513\n",
            "Train Epoch: 4 [32000/60000 (53%)]\tLoss: 1.016139\n",
            "Train Epoch: 4 [38400/60000 (64%)]\tLoss: 1.249354\n",
            "Train Epoch: 4 [44800/60000 (75%)]\tLoss: 0.753500\n",
            "Train Epoch: 4 [51200/60000 (85%)]\tLoss: 0.729483\n",
            "Train Epoch: 4 [57600/60000 (96%)]\tLoss: 0.951268\n",
            "\n",
            "Test set: Average loss: 0.8371, Accuracy: 7711/10000 (77%)\n",
            "\n",
            "Train Epoch: 5 [0/60000 (0%)]\tLoss: 0.789177\n",
            "Train Epoch: 5 [6400/60000 (11%)]\tLoss: 0.852523\n",
            "Train Epoch: 5 [12800/60000 (21%)]\tLoss: 0.851324\n",
            "Train Epoch: 5 [19200/60000 (32%)]\tLoss: 0.794302\n",
            "Train Epoch: 5 [25600/60000 (43%)]\tLoss: 0.765130\n",
            "Train Epoch: 5 [32000/60000 (53%)]\tLoss: 0.841607\n",
            "Train Epoch: 5 [38400/60000 (64%)]\tLoss: 0.591050\n",
            "Train Epoch: 5 [44800/60000 (75%)]\tLoss: 0.694142\n",
            "Train Epoch: 5 [51200/60000 (85%)]\tLoss: 0.696676\n",
            "Train Epoch: 5 [57600/60000 (96%)]\tLoss: 0.709612\n",
            "\n",
            "Test set: Average loss: 0.6437, Accuracy: 8064/10000 (81%)\n",
            "\n",
            "Train Epoch: 6 [0/60000 (0%)]\tLoss: 0.727735\n",
            "Train Epoch: 6 [6400/60000 (11%)]\tLoss: 0.536754\n",
            "Train Epoch: 6 [12800/60000 (21%)]\tLoss: 0.736558\n"
          ],
          "name": "stdout"
        },
        {
          "output_type": "stream",
          "text": [
            "Train Epoch: 6 [19200/60000 (32%)]\tLoss: 0.528755\n",
            "Train Epoch: 6 [25600/60000 (43%)]\tLoss: 0.481870\n",
            "Train Epoch: 6 [32000/60000 (53%)]\tLoss: 0.726936\n",
            "Train Epoch: 6 [38400/60000 (64%)]\tLoss: 0.656589\n",
            "Train Epoch: 6 [44800/60000 (75%)]\tLoss: 0.744564\n",
            "Train Epoch: 6 [51200/60000 (85%)]\tLoss: 0.515434\n",
            "Train Epoch: 6 [57600/60000 (96%)]\tLoss: 0.544851\n",
            "\n",
            "Test set: Average loss: 0.5829, Accuracy: 8176/10000 (82%)\n",
            "\n",
            "Train Epoch: 7 [0/60000 (0%)]\tLoss: 0.570525\n",
            "Train Epoch: 7 [6400/60000 (11%)]\tLoss: 0.355285\n",
            "Train Epoch: 7 [12800/60000 (21%)]\tLoss: 0.527012\n",
            "Train Epoch: 7 [19200/60000 (32%)]\tLoss: 0.733478\n",
            "Train Epoch: 7 [25600/60000 (43%)]\tLoss: 0.599054\n",
            "Train Epoch: 7 [32000/60000 (53%)]\tLoss: 0.750621\n",
            "Train Epoch: 7 [38400/60000 (64%)]\tLoss: 0.396912\n",
            "Train Epoch: 7 [44800/60000 (75%)]\tLoss: 0.509894\n",
            "Train Epoch: 7 [51200/60000 (85%)]\tLoss: 0.554203\n",
            "Train Epoch: 7 [57600/60000 (96%)]\tLoss: 0.531132\n",
            "\n",
            "Test set: Average loss: 0.5508, Accuracy: 8248/10000 (82%)\n",
            "\n",
            "Train Epoch: 8 [0/60000 (0%)]\tLoss: 0.460629\n",
            "Train Epoch: 8 [6400/60000 (11%)]\tLoss: 0.542208\n",
            "Train Epoch: 8 [12800/60000 (21%)]\tLoss: 0.506920\n",
            "Train Epoch: 8 [19200/60000 (32%)]\tLoss: 0.716982\n",
            "Train Epoch: 8 [25600/60000 (43%)]\tLoss: 0.311995\n",
            "Train Epoch: 8 [32000/60000 (53%)]\tLoss: 0.641332\n",
            "Train Epoch: 8 [38400/60000 (64%)]\tLoss: 0.418922\n",
            "Train Epoch: 8 [44800/60000 (75%)]\tLoss: 0.610605\n",
            "Train Epoch: 8 [51200/60000 (85%)]\tLoss: 0.693310\n",
            "Train Epoch: 8 [57600/60000 (96%)]\tLoss: 0.551319\n",
            "\n",
            "Test set: Average loss: 0.5265, Accuracy: 8298/10000 (83%)\n",
            "\n",
            "Train Epoch: 9 [0/60000 (0%)]\tLoss: 0.563970\n",
            "Train Epoch: 9 [6400/60000 (11%)]\tLoss: 0.416071\n",
            "Train Epoch: 9 [12800/60000 (21%)]\tLoss: 0.484275\n",
            "Train Epoch: 9 [19200/60000 (32%)]\tLoss: 0.614565\n",
            "Train Epoch: 9 [25600/60000 (43%)]\tLoss: 0.507208\n",
            "Train Epoch: 9 [32000/60000 (53%)]\tLoss: 0.521571\n",
            "Train Epoch: 9 [38400/60000 (64%)]\tLoss: 0.522393\n",
            "Train Epoch: 9 [44800/60000 (75%)]\tLoss: 0.305439\n",
            "Train Epoch: 9 [51200/60000 (85%)]\tLoss: 0.329574\n",
            "Train Epoch: 9 [57600/60000 (96%)]\tLoss: 0.505855\n",
            "\n",
            "Test set: Average loss: 0.5126, Accuracy: 8336/10000 (83%)\n",
            "\n",
            "Train Epoch: 10 [0/60000 (0%)]\tLoss: 0.516067\n",
            "Train Epoch: 10 [6400/60000 (11%)]\tLoss: 0.576953\n",
            "Train Epoch: 10 [12800/60000 (21%)]\tLoss: 0.472704\n",
            "Train Epoch: 10 [19200/60000 (32%)]\tLoss: 0.392408\n",
            "Train Epoch: 10 [25600/60000 (43%)]\tLoss: 0.531483\n",
            "Train Epoch: 10 [32000/60000 (53%)]\tLoss: 0.325655\n",
            "Train Epoch: 10 [38400/60000 (64%)]\tLoss: 0.390938\n",
            "Train Epoch: 10 [44800/60000 (75%)]\tLoss: 0.692064\n",
            "Train Epoch: 10 [51200/60000 (85%)]\tLoss: 0.287630\n",
            "Train Epoch: 10 [57600/60000 (96%)]\tLoss: 0.386842\n",
            "\n",
            "Test set: Average loss: 0.4963, Accuracy: 8361/10000 (84%)\n",
            "\n",
            "Train Epoch: 11 [0/60000 (0%)]\tLoss: 0.315348\n",
            "Train Epoch: 11 [6400/60000 (11%)]\tLoss: 0.549485\n",
            "Train Epoch: 11 [12800/60000 (21%)]\tLoss: 0.450015\n",
            "Train Epoch: 11 [19200/60000 (32%)]\tLoss: 0.413765\n",
            "Train Epoch: 11 [25600/60000 (43%)]\tLoss: 0.436247\n",
            "Train Epoch: 11 [32000/60000 (53%)]\tLoss: 0.480557\n",
            "Train Epoch: 11 [38400/60000 (64%)]\tLoss: 0.617850\n",
            "Train Epoch: 11 [44800/60000 (75%)]\tLoss: 0.669955\n",
            "Train Epoch: 11 [51200/60000 (85%)]\tLoss: 0.367714\n",
            "Train Epoch: 11 [57600/60000 (96%)]\tLoss: 0.657651\n"
          ],
          "name": "stdout"
        },
        {
          "output_type": "stream",
          "text": [
            "\n",
            "Test set: Average loss: 0.4834, Accuracy: 8397/10000 (84%)\n",
            "\n",
            "Train Epoch: 12 [0/60000 (0%)]\tLoss: 0.302725\n",
            "Train Epoch: 12 [6400/60000 (11%)]\tLoss: 0.451118\n",
            "Train Epoch: 12 [12800/60000 (21%)]\tLoss: 0.432946\n",
            "Train Epoch: 12 [19200/60000 (32%)]\tLoss: 0.675001\n",
            "Train Epoch: 12 [25600/60000 (43%)]\tLoss: 0.277164\n",
            "Train Epoch: 12 [32000/60000 (53%)]\tLoss: 0.727703\n",
            "Train Epoch: 12 [38400/60000 (64%)]\tLoss: 0.336181\n",
            "Train Epoch: 12 [44800/60000 (75%)]\tLoss: 0.623527\n",
            "Train Epoch: 12 [51200/60000 (85%)]\tLoss: 0.296063\n",
            "Train Epoch: 12 [57600/60000 (96%)]\tLoss: 0.584374\n",
            "\n",
            "Test set: Average loss: 0.4725, Accuracy: 8432/10000 (84%)\n",
            "\n",
            "Train Epoch: 13 [0/60000 (0%)]\tLoss: 0.399461\n",
            "Train Epoch: 13 [6400/60000 (11%)]\tLoss: 0.554551\n",
            "Train Epoch: 13 [12800/60000 (21%)]\tLoss: 0.623883\n",
            "Train Epoch: 13 [19200/60000 (32%)]\tLoss: 0.532850\n",
            "Train Epoch: 13 [25600/60000 (43%)]\tLoss: 0.365323\n",
            "Train Epoch: 13 [32000/60000 (53%)]\tLoss: 0.613584\n",
            "Train Epoch: 13 [38400/60000 (64%)]\tLoss: 0.503229\n",
            "Train Epoch: 13 [44800/60000 (75%)]\tLoss: 0.492558\n",
            "Train Epoch: 13 [51200/60000 (85%)]\tLoss: 0.718432\n",
            "Train Epoch: 13 [57600/60000 (96%)]\tLoss: 0.369596\n",
            "\n",
            "Test set: Average loss: 0.4614, Accuracy: 8451/10000 (85%)\n",
            "\n",
            "Train Epoch: 14 [0/60000 (0%)]\tLoss: 0.416165\n",
            "Train Epoch: 14 [6400/60000 (11%)]\tLoss: 0.448732\n",
            "Train Epoch: 14 [12800/60000 (21%)]\tLoss: 0.466527\n",
            "Train Epoch: 14 [19200/60000 (32%)]\tLoss: 0.501559\n",
            "Train Epoch: 14 [25600/60000 (43%)]\tLoss: 0.432825\n",
            "Train Epoch: 14 [32000/60000 (53%)]\tLoss: 0.378828\n",
            "Train Epoch: 14 [38400/60000 (64%)]\tLoss: 0.397836\n",
            "Train Epoch: 14 [44800/60000 (75%)]\tLoss: 0.375697\n",
            "Train Epoch: 14 [51200/60000 (85%)]\tLoss: 0.373547\n",
            "Train Epoch: 14 [57600/60000 (96%)]\tLoss: 0.410084\n",
            "\n",
            "Test set: Average loss: 0.4519, Accuracy: 8482/10000 (85%)\n",
            "\n",
            "Train Epoch: 15 [0/60000 (0%)]\tLoss: 0.328124\n",
            "Train Epoch: 15 [6400/60000 (11%)]\tLoss: 0.296832\n",
            "Train Epoch: 15 [12800/60000 (21%)]\tLoss: 0.338915\n",
            "Train Epoch: 15 [19200/60000 (32%)]\tLoss: 0.464356\n",
            "Train Epoch: 15 [25600/60000 (43%)]\tLoss: 0.239712\n",
            "Train Epoch: 15 [32000/60000 (53%)]\tLoss: 0.468597\n",
            "Train Epoch: 15 [38400/60000 (64%)]\tLoss: 0.594215\n",
            "Train Epoch: 15 [44800/60000 (75%)]\tLoss: 0.472577\n",
            "Train Epoch: 15 [51200/60000 (85%)]\tLoss: 0.469122\n",
            "Train Epoch: 15 [57600/60000 (96%)]\tLoss: 0.384842\n",
            "\n",
            "Test set: Average loss: 0.4435, Accuracy: 8506/10000 (85%)\n",
            "\n"
          ],
          "name": "stdout"
        }
      ]
    },
    {
      "metadata": {
        "id": "DbLbDMUQpMum",
        "colab_type": "text"
      },
      "cell_type": "markdown",
      "source": [
        "### Visualizing How Well the Training Went\n",
        "\n",
        "Now we should have a reasonably well trained model. Lets see how the train went. Use the visualization function to plot the **training loss**, **testing loss** and **testing accuracy** over the course of the training. \n",
        "\n",
        "_Notice: We do not measure the training accuracy, since it is not a good measure of how good the model is since we are looking for a model that has good performace **on data not yet seen**_\n",
        "\n",
        "We should see the training loss quickly decline then plateau. \n",
        "  - If you are seeing jagged training loss perhaps increase the batch size or decrease the learning rate \n",
        "  \n",
        "You should see that the testing loss more gradually reduces \n",
        "  - if you see the testing loss starting to go up, you are now overfitting - probably reduce the number of epochs\n",
        "\n",
        "You should also see the testing accuracy increase at the same rate the testing loss decreases"
      ]
    },
    {
      "metadata": {
        "id": "W4zSlFMw4ZhG",
        "colab_type": "code",
        "colab": {
          "base_uri": "https://localhost:8080/",
          "height": 848
        },
        "outputId": "b51978d6-663e-4e5f-8907-f9d596b1ab8a"
      },
      "cell_type": "code",
      "source": [
        "visualize_learning(MLP_TRAINING_LOSS, MLP_TEST_LOSS, MLP_TEST_ACCURACY)"
      ],
      "execution_count": 30,
      "outputs": [
        {
          "output_type": "display_data",
          "data": {
            "image/png": "[encoded data removed]",
            "text/plain": [
              "<matplotlib.figure.Figure at 0x7fa3def04f28>"
            ]
          },
          "metadata": {
            "tags": []
          }
        },
        {
          "output_type": "display_data",
          "data": {
            "image/png": "[encoded data removed]",
            "text/plain": [
              "<matplotlib.figure.Figure at 0x7fa3def04cf8>"
            ]
          },
          "metadata": {
            "tags": []
          }
        },
        {
          "output_type": "display_data",
          "data": {
            "image/png": "[encoded data removed]",
            "text/plain": [
              "<matplotlib.figure.Figure at 0x7fa3deea86d8>"
            ]
          },
          "metadata": {
            "tags": []
          }
        }
      ]
    },
    {
      "metadata": {
        "id": "i3qk7rt_pU8G",
        "colab_type": "text"
      },
      "cell_type": "markdown",
      "source": [
        "### Trying an Example on Your Trained Model\n",
        "\n",
        "Use the ```classify_an_example``` helper function to classify an example from the testing set"
      ]
    },
    {
      "metadata": {
        "id": "nZF8t3AB_-Sk",
        "colab_type": "code",
        "colab": {
          "base_uri": "https://localhost:8080/",
          "height": 317
        },
        "outputId": "ece45d7e-f68d-43de-ea47-bc1a38b65f56"
      },
      "cell_type": "code",
      "source": [
        "classify_an_example(mlp_model)"
      ],
      "execution_count": 31,
      "outputs": [
        {
          "output_type": "stream",
          "text": [
            "\n",
            "The image is probably: 6\n",
            "\n"
          ],
          "name": "stdout"
        },
        {
          "output_type": "display_data",
          "data": {
            "image/png": "[encoded data removed]",
            "text/plain": [
              "<matplotlib.figure.Figure at 0x7fa3e0053208>"
            ]
          },
          "metadata": {
            "tags": []
          }
        }
      ]
    },
    {
      "metadata": {
        "id": "AG4tBhF3uF6I",
        "colab_type": "text"
      },
      "cell_type": "markdown",
      "source": [
        "## Implementing LeNet\n",
        "\n",
        "Our final model of the day is going to be LeNet (LeCun 1998). LeNet uses convolution layers to learn usuful features in the image instead of relying on just pixels. Then by stacking more convolution layers on top the model begins to extra useful collections of features. This terminates in a MLP which tries to associate this high level representation of the image with the label. \n",
        "\n",
        "Now our model looks like this $\\sigma(w^T relu(w^T relu(w^T relu(w * relu( w * x + b) + b)+ b)+ b) + b)$ and again we can train this with gradient decent"
      ]
    },
    {
      "metadata": {
        "id": "t4RSLeoaoJKe",
        "colab_type": "text"
      },
      "cell_type": "markdown",
      "source": [
        "### Defining the Model\n",
        "Once again we are going to create a sub class of the pytorch class ```torch.nn.Module``` listing out the layers of our model in our ```__init__``` method and the operations between those layers in the method called ```forward```. The ```torch.nn.Module``` super class handles the implementation of the backpropogation.\n",
        "\n",
        "Go a head and try to fill in what you think a Multilayer Perceptron Model would look like.\n",
        "\n",
        "Here are some useful functions:\n",
        "\n",
        "- ```torch.nn.Conv2d``` -> 2 Dimentional Convolution / Implements $F(\\boldsymbol ) = \\boldsymbol b + \\sum_{k=0}^{C_{in} - 1} \\boldsymbol w * \\boldsymbol x$\n",
        "- ```torch.nn.Linear``` -> Fully Connected Layer / Impliments $F(\\boldsymbol x) = \\boldsymbol w^T \\boldsymbol x + \\boldsymbol b$\n",
        "- ```torch.nn.Functional.relu``` -> Rectifying Linear Unit / Implements $max(0,x)$ \n",
        "    - Other activation functions can be found here: http://pytorch.org/docs/master/nn.html#non-linear-activation-functions \n",
        "- ```torch.nn.Functional.softmax``` -> Softmax function / Implements $F(x) = \\frac{e^{ \\boldsymbol x}} {\\sum_\\limits{i \\in dim \\boldsymbol x} e^{\\boldsymbol x_i} }$\n",
        "- ```torch.nn.Functional.log_softmax``` -> Log of the softmax function / Implements $F(x) = log(\\frac{e^{ \\boldsymbol x}} {\\sum_\\limits{i \\in dim \\boldsymbol x} e^{\\boldsymbol x_i} })$\n",
        "- ```torch.Tensor.view``` -> allows you to reshape a **Tensor** (multi-dimentional vector)\n",
        "- ```torch.nn.Dropout2d``` -> randomly set a percentage of weights to randomly be set to 0 each update to prevent overfitting\n"
      ]
    },
    {
      "metadata": {
        "id": "-6ioVqV2lOw8",
        "colab_type": "code",
        "colab": {}
      },
      "cell_type": "code",
      "source": [
        "#Network\n",
        "class LeNet(nn.Module):\n",
        "    def __init__(self):\n",
        "        super(LeNet, self).__init__()\n",
        "        self.conv1 = nn.Conv2d(1, 20, kernel_size=5)\n",
        "        self.conv2 = nn.Conv2d(20, 50, kernel_size=5)\n",
        "        self.conv2_drop = nn.Dropout2d(0.2)\n",
        "        self.fc1 = nn.Linear(800, 500)\n",
        "        self.fc2 = nn.Linear(500, 10)\n",
        "\n",
        "    def forward(self, x):\n",
        "        x = F.max_pool2d(self.conv1(x), kernel_size=2, stride=2)\n",
        "        x = F.max_pool2d(self.conv2(x), kernel_size=2, stride=2)\n",
        "        x = x.view(-1, 800)\n",
        "        x = F.relu(self.fc1(x))\n",
        "        x = self.fc2(x)\n",
        "        return F.log_softmax(x, dim=1)"
      ],
      "execution_count": 0,
      "outputs": []
    },
    {
      "metadata": {
        "id": "uddr0G8Epm1U",
        "colab_type": "text"
      },
      "cell_type": "markdown",
      "source": [
        "### Training the Model\n",
        "Again we are going to set our training hyper parameters\n",
        "\n",
        "- **epochs** -> The number of times we show the training dataset to the model \n",
        "- **learning rate** -> The size of the step we take each time we go through backpropogation (i.e. the $\\alpha$ in $W_{t+1} = W_t - \\alpha \\nabla_W\\mathcal L$)\n",
        "- **momentum** (_Note: this will only apply if you use SGD_) -> We don't want to get stuck in local minima in the loss landscape so we may want to not let a particularly bad batch prevent otherwise good progress. We can redefine the parameter update procedure as $W_{t+1} = W_t - \\alpha V_t$ and $V_t = \\beta V_{t-1} + (1 - \\beta)\\nabla_W\\mathcal L$ where $\\beta$\n",
        "is our notion of momentum\n",
        "\n",
        "Set these values to something you think might be reasonable and see what happens. Make sure to ```shift+enter``` to lock them in."
      ]
    },
    {
      "metadata": {
        "id": "vTU8GISN-Dzi",
        "colab_type": "code",
        "colab": {}
      },
      "cell_type": "code",
      "source": [
        "#@title Training Hyper Parameters\n",
        "EPOCHS = 5                #@param {type:\"integer\"}           #Number of times to go through the data set\n",
        "SGD_MOMENTUM = 0.5        #@param {type:\"number\"}            #How much it takes to change the direction of the gradient\n",
        "LEARNING_RATE = 0.001     #@param {type:\"number\"}            #How far each update pushes the weights\n"
      ],
      "execution_count": 0,
      "outputs": []
    },
    {
      "metadata": {
        "id": "RfRkyLxkpr7g",
        "colab_type": "text"
      },
      "cell_type": "markdown",
      "source": [
        "Again create an instance of your model and transfer it to the GPU (using the ```nn.Module.cuda``` method).\n",
        "\n",
        "Now chose your optimizer. Take a look at http://pytorch.org/docs/master/optim.html#algorithms for a list of choices, but if you need a recomendation use ```torch.optim.SGD```\n",
        "\n",
        "Next we need to pick a **loss** function.  Here is a list http://pytorch.org/docs/master/nn.html#id46\n",
        "If you are not sure what to choose then use ```torch.nn.functional.nll_loss``` which is negative log likelihood loss ($L(y) = -log(y)$) a common function to use with softmax"
      ]
    },
    {
      "metadata": {
        "id": "X4AZCoK2laMk",
        "colab_type": "code",
        "colab": {
          "base_uri": "https://localhost:8080/",
          "height": 1267
        },
        "outputId": "5f04845d-498f-4979-eb82-21d20c706fa1"
      },
      "cell_type": "code",
      "source": [
        "cnn_model = LeNet()\n",
        "cnn_model.cuda()\n",
        "cnn_model_optimizer = optim.SGD(cnn_model.parameters(), lr=LEARNING_RATE, momentum=SGD_MOMENTUM)\n",
        "print(cnn_model)\n",
        "CNN_TRAINING_LOSS, CNN_TEST_LOSS, CNN_TEST_ACCURACY = learn(cnn_model, cnn_model_optimizer, F.nll_loss)"
      ],
      "execution_count": 35,
      "outputs": [
        {
          "output_type": "stream",
          "text": [
            "LeNet(\n",
            "  (conv1): Conv2d (1, 20, kernel_size=(5, 5), stride=(1, 1))\n",
            "  (conv2): Conv2d (20, 50, kernel_size=(5, 5), stride=(1, 1))\n",
            "  (conv2_drop): Dropout2d(p=0.2)\n",
            "  (fc1): Linear(in_features=800, out_features=500)\n",
            "  (fc2): Linear(in_features=500, out_features=10)\n",
            ")\n",
            "Train Epoch: 1 [0/60000 (0%)]\tLoss: 2.285554\n",
            "Train Epoch: 1 [6400/60000 (11%)]\tLoss: 2.155993\n",
            "Train Epoch: 1 [12800/60000 (21%)]\tLoss: 2.012254\n",
            "Train Epoch: 1 [19200/60000 (32%)]\tLoss: 1.668985\n",
            "Train Epoch: 1 [25600/60000 (43%)]\tLoss: 1.211285\n",
            "Train Epoch: 1 [32000/60000 (53%)]\tLoss: 0.888964\n",
            "Train Epoch: 1 [38400/60000 (64%)]\tLoss: 0.730533\n",
            "Train Epoch: 1 [44800/60000 (75%)]\tLoss: 0.572084\n",
            "Train Epoch: 1 [51200/60000 (85%)]\tLoss: 0.516982\n",
            "Train Epoch: 1 [57600/60000 (96%)]\tLoss: 0.381755\n",
            "\n",
            "Test set: Average loss: 0.3979, Accuracy: 8903/10000 (89%)\n",
            "\n",
            "Train Epoch: 2 [0/60000 (0%)]\tLoss: 0.411250\n",
            "Train Epoch: 2 [6400/60000 (11%)]\tLoss: 0.485648\n",
            "Train Epoch: 2 [12800/60000 (21%)]\tLoss: 0.304532\n",
            "Train Epoch: 2 [19200/60000 (32%)]\tLoss: 0.272971\n",
            "Train Epoch: 2 [25600/60000 (43%)]\tLoss: 0.347653\n",
            "Train Epoch: 2 [32000/60000 (53%)]\tLoss: 0.290347\n",
            "Train Epoch: 2 [38400/60000 (64%)]\tLoss: 0.234985\n",
            "Train Epoch: 2 [44800/60000 (75%)]\tLoss: 0.222139\n",
            "Train Epoch: 2 [51200/60000 (85%)]\tLoss: 0.303210\n",
            "Train Epoch: 2 [57600/60000 (96%)]\tLoss: 0.252408\n",
            "\n",
            "Test set: Average loss: 0.2634, Accuracy: 9224/10000 (92%)\n",
            "\n",
            "Train Epoch: 3 [0/60000 (0%)]\tLoss: 0.209263\n",
            "Train Epoch: 3 [6400/60000 (11%)]\tLoss: 0.382344\n",
            "Train Epoch: 3 [12800/60000 (21%)]\tLoss: 0.218231\n",
            "Train Epoch: 3 [19200/60000 (32%)]\tLoss: 0.162768\n",
            "Train Epoch: 3 [25600/60000 (43%)]\tLoss: 0.375954\n",
            "Train Epoch: 3 [32000/60000 (53%)]\tLoss: 0.187578\n",
            "Train Epoch: 3 [38400/60000 (64%)]\tLoss: 0.369493\n",
            "Train Epoch: 3 [44800/60000 (75%)]\tLoss: 0.143779\n",
            "Train Epoch: 3 [51200/60000 (85%)]\tLoss: 0.154185\n",
            "Train Epoch: 3 [57600/60000 (96%)]\tLoss: 0.157186\n",
            "\n",
            "Test set: Average loss: 0.2051, Accuracy: 9401/10000 (94%)\n",
            "\n",
            "Train Epoch: 4 [0/60000 (0%)]\tLoss: 0.151576\n",
            "Train Epoch: 4 [6400/60000 (11%)]\tLoss: 0.189449\n",
            "Train Epoch: 4 [12800/60000 (21%)]\tLoss: 0.294752\n",
            "Train Epoch: 4 [19200/60000 (32%)]\tLoss: 0.178941\n",
            "Train Epoch: 4 [25600/60000 (43%)]\tLoss: 0.183869\n",
            "Train Epoch: 4 [32000/60000 (53%)]\tLoss: 0.337708\n",
            "Train Epoch: 4 [38400/60000 (64%)]\tLoss: 0.186129\n",
            "Train Epoch: 4 [44800/60000 (75%)]\tLoss: 0.239626\n",
            "Train Epoch: 4 [51200/60000 (85%)]\tLoss: 0.105541\n",
            "Train Epoch: 4 [57600/60000 (96%)]\tLoss: 0.196000\n",
            "\n",
            "Test set: Average loss: 0.1690, Accuracy: 9512/10000 (95%)\n",
            "\n",
            "Train Epoch: 5 [0/60000 (0%)]\tLoss: 0.359238\n",
            "Train Epoch: 5 [6400/60000 (11%)]\tLoss: 0.158531\n",
            "Train Epoch: 5 [12800/60000 (21%)]\tLoss: 0.138655\n",
            "Train Epoch: 5 [19200/60000 (32%)]\tLoss: 0.081658\n",
            "Train Epoch: 5 [25600/60000 (43%)]\tLoss: 0.239011\n",
            "Train Epoch: 5 [32000/60000 (53%)]\tLoss: 0.128326\n",
            "Train Epoch: 5 [38400/60000 (64%)]\tLoss: 0.176137\n",
            "Train Epoch: 5 [44800/60000 (75%)]\tLoss: 0.057784\n",
            "Train Epoch: 5 [51200/60000 (85%)]\tLoss: 0.188673\n",
            "Train Epoch: 5 [57600/60000 (96%)]\tLoss: 0.091466\n",
            "\n",
            "Test set: Average loss: 0.1415, Accuracy: 9574/10000 (96%)\n",
            "\n"
          ],
          "name": "stdout"
        }
      ]
    },
    {
      "metadata": {
        "id": "RINtmxBzpa-i",
        "colab_type": "text"
      },
      "cell_type": "markdown",
      "source": [
        "### Visualizing How Well the Training Went\n",
        "\n",
        "Now we should have a reasonably well trained model. Lets see how the train went. Use the visualization function to plot the **training loss**, **testing loss** and **testing accuracy** over the course of the training. \n",
        "\n",
        "_Notice: We do not measure the training accuracy, since it is not a good measure of how good the model is since we are looking for a model that has good performace **on data not yet seen**_\n",
        "\n",
        "We should see the training loss quickly decline then plateau. \n",
        "  - If you are seeing jagged training loss perhaps increase the batch size or decrease the learning rate \n",
        "  \n",
        "You should see that the testing loss more gradually reduces \n",
        "  - if you see the testing loss starting to go up, you are now overfitting - probably reduce the number of epochs\n",
        "\n",
        "You should also see the testing accuracy increase at the same rate the testing loss decreases"
      ]
    },
    {
      "metadata": {
        "id": "_FtgkF-zl8wW",
        "colab_type": "code",
        "colab": {
          "base_uri": "https://localhost:8080/",
          "height": 848
        },
        "outputId": "af8537f5-95eb-4cd2-c2f7-636c11d4aac3"
      },
      "cell_type": "code",
      "source": [
        "visualize_learning(CNN_TRAINING_LOSS, CNN_TEST_LOSS, CNN_TEST_ACCURACY)"
      ],
      "execution_count": 36,
      "outputs": [
        {
          "output_type": "display_data",
          "data": {
            "image/png": "[encoded data removed]",
            "text/plain": [
              "<matplotlib.figure.Figure at 0x7fa3dee6c908>"
            ]
          },
          "metadata": {
            "tags": []
          }
        },
        {
          "output_type": "display_data",
          "data": {
            "image/png": "[encoded data removed]",
            "text/plain": [
              "<matplotlib.figure.Figure at 0x7fa3dee6c080>"
            ]
          },
          "metadata": {
            "tags": []
          }
        },
        {
          "output_type": "display_data",
          "data": {
            "image/png": "[encoded data removed]",
            "text/plain": [
              "<matplotlib.figure.Figure at 0x7fa3deec0630>"
            ]
          },
          "metadata": {
            "tags": []
          }
        }
      ]
    },
    {
      "metadata": {
        "id": "8n9258aCpY8Y",
        "colab_type": "text"
      },
      "cell_type": "markdown",
      "source": [
        "### Trying an Example on Your Trained Model\n",
        "\n",
        "Use the ```classify_an_example``` helper function to classify an example from the testing set"
      ]
    },
    {
      "metadata": {
        "id": "weQjoVft57_y",
        "colab_type": "code",
        "colab": {
          "base_uri": "https://localhost:8080/",
          "height": 317
        },
        "outputId": "cf699386-e661-4b6c-d28c-2497d0688a98"
      },
      "cell_type": "code",
      "source": [
        "classify_an_example(cnn_model)"
      ],
      "execution_count": 37,
      "outputs": [
        {
          "output_type": "stream",
          "text": [
            "\n",
            "The image is probably: 3\n",
            "\n"
          ],
          "name": "stdout"
        },
        {
          "output_type": "display_data",
          "data": {
            "image/png": "[encoded data removed]",
            "text/plain": [
              "<matplotlib.figure.Figure at 0x7fa3df89d320>"
            ]
          },
          "metadata": {
            "tags": []
          }
        }
      ]
    },
    {
      "metadata": {
        "id": "UflW59X1SOn0",
        "colab_type": "text"
      },
      "cell_type": "markdown",
      "source": [
        "## Congratulations!\n",
        "\n",
        "You just trained 3 different machine learning models and all of them are relatively good at detecting handwritting. There is a big world of models, tasks and strategies to explore. But one more thing before we finish this tutorial..."
      ]
    },
    {
      "metadata": {
        "id": "fk5GUPekSwAE",
        "colab_type": "text"
      },
      "cell_type": "markdown",
      "source": [
        "### Limits of your model\n",
        "\n",
        "You trained a model, it gets something like 98% accuracy on your testing dataset. But is it ready to go out into the world and classify digits?\n",
        "\n",
        "Lets take a look at an example again... "
      ]
    },
    {
      "metadata": {
        "id": "9O_oxxdHTKQM",
        "colab_type": "code",
        "colab": {
          "base_uri": "https://localhost:8080/",
          "height": 317
        },
        "outputId": "b1e0a153-635e-4b8f-b648-992a62b22547"
      },
      "cell_type": "code",
      "source": [
        "classify_an_example(cnn_model)"
      ],
      "execution_count": 38,
      "outputs": [
        {
          "output_type": "stream",
          "text": [
            "\n",
            "The image is probably: 4\n",
            "\n"
          ],
          "name": "stdout"
        },
        {
          "output_type": "display_data",
          "data": {
            "image/png": "[encoded data removed]",
            "text/plain": [
              "<matplotlib.figure.Figure at 0x7fa3ce1a5b00>"
            ]
          },
          "metadata": {
            "tags": []
          }
        }
      ]
    },
    {
      "metadata": {
        "id": "plHixLqrTNLe",
        "colab_type": "text"
      },
      "cell_type": "markdown",
      "source": [
        "But what if I give you this image? "
      ]
    },
    {
      "metadata": {
        "id": "AnTHDEUiWV76",
        "colab_type": "code",
        "colab": {
          "base_uri": "https://localhost:8080/",
          "height": 282
        },
        "outputId": "6e69b4d9-b448-4fcf-ede8-42824cd1b8b0"
      },
      "cell_type": "code",
      "source": [
        "img, label = next(iter(test_loader))\n",
        "img = img[0][0]\n",
        "label = label[0]\n",
        "img_transpose = img.transpose(0,1)\n",
        "img_view = img_transpose.cpu().numpy()\n",
        "plt.imshow(img_view.reshape(28,28))\n",
        "print(\"It is supposed to be a \" + str(label))"
      ],
      "execution_count": 41,
      "outputs": [
        {
          "output_type": "stream",
          "text": [
            "It is supposed to be a 4\n"
          ],
          "name": "stdout"
        },
        {
          "output_type": "display_data",
          "data": {
            "image/png": "[encoded data removed]",
            "text/plain": [
              "<matplotlib.figure.Figure at 0x7fa3cdae9080>"
            ]
          },
          "metadata": {
            "tags": []
          }
        }
      ]
    },
    {
      "metadata": {
        "id": "VToGFkWNXVCU",
        "colab_type": "code",
        "colab": {
          "base_uri": "https://localhost:8080/",
          "height": 34
        },
        "outputId": "ebb00f53-1d88-46f3-d487-32eed823aa12"
      },
      "cell_type": "code",
      "source": [
        "print(\"The model thinks it is a \" + str(classify(cnn_model, img_transpose.unsqueeze(0).unsqueeze(0))[0]))"
      ],
      "execution_count": 42,
      "outputs": [
        {
          "output_type": "stream",
          "text": [
            "The model thinks it is a 7\n"
          ],
          "name": "stdout"
        }
      ]
    },
    {
      "metadata": {
        "id": "8pSJz8SmZRXk",
        "colab_type": "text"
      },
      "cell_type": "markdown",
      "source": [
        "What could we do to solve this problem?\n",
        "\n",
        "This is the main job of ML engineers..."
      ]
    },
    {
      "metadata": {
        "id": "bzrOTlaPQ_7U",
        "colab_type": "code",
        "colab": {}
      },
      "cell_type": "code",
      "source": [
        ""
      ],
      "execution_count": 0,
      "outputs": []
    }
  ]
}